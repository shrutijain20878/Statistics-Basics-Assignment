{
  "nbformat": 4,
  "nbformat_minor": 0,
  "metadata": {
    "colab": {
      "provenance": []
    },
    "kernelspec": {
      "name": "python3",
      "display_name": "Python 3"
    },
    "language_info": {
      "name": "python"
    }
  },
  "cells": [
    {
      "cell_type": "code",
      "execution_count": null,
      "metadata": {
        "id": "IP6Ba1PjYiE-"
      },
      "outputs": [],
      "source": []
    },
    {
      "cell_type": "markdown",
      "source": [
        "# Statistics Basics| Assignment"
      ],
      "metadata": {
        "id": "Av5D4Ys7Ynt7"
      }
    },
    {
      "cell_type": "markdown",
      "source": [
        "**Question 1: What is the difference between descriptive statistics and inferential statistics? Explain with examples.**\n",
        "\n",
        "**Solution 1:**\n",
        "   \n",
        "**Descriptive statistics** involves methods for summarizing and organizing data. It uses tools like mean, median, mode, and standard deviation to describe the characteristics of a dataset.\n",
        "\n",
        "**Example:**\n",
        "Suppose a teacher records the scores of 30 students in a test. She calculates:\n",
        "Mean (average) score: 78\n",
        "Median score: 80\n",
        "Standard deviation: 5\n",
        "These are descriptive statistics—they summarize the data from the entire group of 30 students.\n",
        "\n",
        "**Inferential statistics**, on the other hand, is used to draw conclusions or make predictions about a larger population based on a sample. It involves techniques like hypothesis testing, confidence intervals, and regression.\n",
        "\n",
        "**Example:**    A researcher surveys 100 people out of a city’s population of 1 million to find out the average number of hours people watch TV daily. Based on the sample, she infers that:\n",
        "The average for the entire population is 2.5 hours/day with a 95% confidence interval of [2.3, 2.7].\n",
        "This is inferential statistics—it makes a prediction or generalization about a larger population based on a sample.\n"
      ],
      "metadata": {
        "id": "EIBvWxmOYrcH"
      }
    },
    {
      "cell_type": "markdown",
      "source": [
        "**Question 2: What is sampling in statistics? Explain the differences between random and stratified sampling**\n",
        "\n",
        "**Solution 2:**\n",
        "\n",
        "Sampling in statistics is the process of selecting a subset of individuals from a larger population to analyze and draw conclusions about the whole group. Since studying an entire population is often impractical or costly, sampling helps researchers gather insights efficiently.\n",
        "\n",
        "Random sampling means each individual in the population has an equal chance of being selected. It's simple and unbiased but may not represent subgroups well.\n",
        "\n",
        "Stratified sampling, on the other hand, involves dividing the population into distinct groups or strata (like age, gender, income level), then randomly sampling from each group. This ensures all key groups are fairly represented in the sample."
      ],
      "metadata": {
        "id": "_OQt1vK1ZPP1"
      }
    },
    {
      "cell_type": "markdown",
      "source": [
        "**Question 3: Define mean, median, and mode. Explain why these measures of central tendency are important.**\n",
        "\n",
        "**Solution 3:**\n",
        "\n",
        "Mean, median, and mode are measures of central tendency that summarize a dataset with a single value, representing the center or typical value of the data.\n",
        "\n",
        "Mean is the average of all values (sum of values divided by number of values).\n",
        "\n",
        "Median is the middle value when data is sorted in order.\n",
        "\n",
        "Mode is the value that appears most frequently in the dataset.\n",
        "\n",
        "These measures of central tendency are important as during data cleaning to fill missing values we use these central tendency as Machine learning model cannot be trained with data having missing value. We use mean and median to fill missing value of numeric columns and use mode to fill missing value of categorical columns.\n"
      ],
      "metadata": {
        "id": "F0_rKnxIZbRG"
      }
    },
    {
      "cell_type": "markdown",
      "source": [
        "**Question 4: Explain skewness and kurtosis. What does a positive skew imply about the data?**\n",
        "\n",
        "**Solution 4:**\n",
        "\n",
        "Skewness and kurtosis are statistical measures that describe the shape of a data distribution.\n",
        "\n",
        "Skewness indicates the asymmetry of the data distribution. A positive skew means the tail on the right side is longer, and most data values are concentrated on the left. This suggests that there are a few unusually high values pulling the mean to the right.\n",
        "\n",
        "Kurtosis measures the \"tailedness\" or the sharpness of the peak of a distribution. High kurtosis means more data are in the tails (outliers), while low kurtosis means the distribution is flatter with fewer outliers.\n",
        "\n",
        "A positive skew implies that the data has more small values and a few very large ones, which could affect the mean and make it larger than the median.\n"
      ],
      "metadata": {
        "id": "E4pHMWBEZnJ_"
      }
    },
    {
      "cell_type": "code",
      "source": [
        "# Question 5: Implement a Python program to compute the mean, median, and mode of a given list of numbers.\n",
        "# numbers = [12, 15, 12, 18, 19, 12, 20, 22, 19, 19, 24, 24, 24, 26, 28]\n",
        "import numpy as np\n",
        "import statistics\n",
        "numbers = [12, 15, 12, 18, 19, 12, 20, 22, 19, 19, 24, 24, 24, 26, 28]\n",
        "m1 = np.mean(numbers)\n",
        "m2 = np.median(numbers)\n",
        "m3 = statistics.mode(numbers)\n",
        "print(\"mean:\", m1)\n",
        "print(\"median:\", m2)\n",
        "print(\"mode:\", m3)"
      ],
      "metadata": {
        "colab": {
          "base_uri": "https://localhost:8080/"
        },
        "id": "XZ-b4z6TYq7e",
        "outputId": "169253bb-1e5e-4c95-e37f-b27d6a6fa8a7"
      },
      "execution_count": 5,
      "outputs": [
        {
          "output_type": "stream",
          "name": "stdout",
          "text": [
            "mean: 19.6\n",
            "median: 19.0\n",
            "mode: 12\n"
          ]
        }
      ]
    },
    {
      "cell_type": "code",
      "source": [
        "# Question 6: Compute the covariance and correlation coefficient between the following two datasets provided as lists in Python:\n",
        "# list_x = [10, 20, 30, 40, 50]\n",
        "# list_y = [15, 25, 35, 45, 60]\n",
        "import numpy as np\n",
        "\n",
        "list_x = [10, 20, 30, 40, 50]\n",
        "list_y = [15, 25, 35, 45, 60]\n",
        "x = np.array(list_x)\n",
        "y = np.array(list_y)\n",
        "\n",
        "cov_matrix = np.cov(x, y, bias=False)\n",
        "covariance = cov_matrix[0, 1]\n",
        "correlation = np.corrcoef(x, y)[0, 1]\n",
        "\n",
        "print(\"Covariance:\", covariance)\n",
        "print(\"Correlation Coefficient:\", correlation)"
      ],
      "metadata": {
        "colab": {
          "base_uri": "https://localhost:8080/"
        },
        "id": "k_ZwPydQacf2",
        "outputId": "76c77731-cda5-4c00-bc4f-d5822bf1194a"
      },
      "execution_count": 7,
      "outputs": [
        {
          "output_type": "stream",
          "name": "stdout",
          "text": [
            "Covariance: 275.0\n",
            "Correlation Coefficient: 0.995893206467704\n"
          ]
        }
      ]
    },
    {
      "cell_type": "code",
      "source": [
        "# Question 7: Write a Python script to draw a boxplot for the following numeric list and identify its outliers. Explain the result:\n",
        "# data = [12, 14, 14, 15, 18, 19, 19, 21, 22, 22, 23, 23, 24, 26, 29, 35]\n",
        "import seaborn as sns\n",
        "data = [12, 14, 14, 15, 18, 19, 19, 21, 22, 22, 23, 23, 24, 26, 29, 35]\n",
        "sns.boxplot(data)"
      ],
      "metadata": {
        "colab": {
          "base_uri": "https://localhost:8080/",
          "height": 429
        },
        "id": "JFoPJPoEbsPQ",
        "outputId": "b7dbb5a7-1550-418f-9360-bbe8541fbe9d"
      },
      "execution_count": 8,
      "outputs": [
        {
          "output_type": "execute_result",
          "data": {
            "text/plain": [
              "<Axes: >"
            ]
          },
          "metadata": {},
          "execution_count": 8
        },
        {
          "output_type": "display_data",
          "data": {
            "text/plain": [
              "<Figure size 640x480 with 1 Axes>"
            ],
            "image/png": "[encoded data removed]"
          },
          "metadata": {}
        }
      ]
    },
    {
      "cell_type": "markdown",
      "source": [
        "**Question 8: You are working as a data analyst in an e-commerce company. The marketing team wants to know if there is a relationship between advertising spend and daily sales.**\n",
        "\n",
        "● Explain how you would use covariance and correlation to explore this relationship.\n",
        "\n",
        "**Solution:**\n",
        "\n",
        "**Covariance:**\n",
        "\n",
        "It shows the direction of the relationship.\n",
        "\n",
        "If covariance is positive, higher advertising spend is associated with higher sales.\n",
        "\n",
        "If negative, higher advertising spend relates to lower sales.\n",
        "\n",
        "But covariance doesn’t show how strong the relationship is.\n",
        "\n",
        "**Correlation coefficient:**\n",
        "\n",
        "Measures the strength and direction of the linear relationship.\n",
        "\n",
        "Ranges from -1 to 1:\n",
        "\n",
        "+1 → perfect positive correlation\n",
        "\n",
        "0 → no correlation\n",
        "\n",
        "-1 → perfect negative correlation\n",
        "\n",
        "It is scaled, so it’s easier to interpret than covariance."
      ],
      "metadata": {
        "id": "1tH178pDdCYu"
      }
    },
    {
      "cell_type": "code",
      "source": [
        "# ● Write Python code to compute the correlation between the two lists:\n",
        "# advertising_spend = [200, 250, 300, 400, 500]\n",
        "# daily_sales = [2200, 2450, 2750, 3200, 4000]\n",
        "import numpy as np\n",
        "advertising_spend = [200, 250, 300, 400, 500]\n",
        "daily_sales = [2200, 2450, 2750, 3200, 4000]\n",
        "\n",
        "ad = np.array(advertising_spend)\n",
        "sales = np.array(daily_sales)\n",
        "\n",
        "cov_matrix = np.cov(ad, sales, bias=False)\n",
        "covariance = cov_matrix[0, 1]\n",
        "\n",
        "correlation = np.corrcoef(ad, sales)[0, 1]\n",
        "\n",
        "print(\"Covariance:\", covariance) # Covariance = 85,000 ---  indicates a strong positive relationship.\n",
        "print(\"Correlation Coefficient:\", correlation) # Correlation = 0.99 -- confirms almost perfect positive linear correlation between advertising spend and daily sales."
      ],
      "metadata": {
        "colab": {
          "base_uri": "https://localhost:8080/"
        },
        "id": "fsy6o1vAcQZb",
        "outputId": "37b7fd62-3d23-4d4f-e541-0f4e58375b7a"
      },
      "execution_count": 10,
      "outputs": [
        {
          "output_type": "stream",
          "name": "stdout",
          "text": [
            "Covariance: 84875.0\n",
            "Correlation Coefficient: 0.9935824101653329\n"
          ]
        }
      ]
    },
    {
      "cell_type": "markdown",
      "source": [
        "**Question 9: Your team has collected customer satisfaction survey data on a scale of 1-10 and wants to understand its distribution before launching a new product**.\n",
        "\n",
        "● Explain which summary statistics and visualizations (e.g. mean, standard\n",
        "deviation, histogram) you’d use.\n",
        "\n",
        "**Solution**\n",
        "\n",
        "**Summary Statistics:**\n",
        "\n",
        "Mean: Average satisfaction score\n",
        "\n",
        "Median: Middle score, useful if data is skewed\n",
        "\n",
        "Mode: Most frequent score\n",
        "\n",
        "Standard Deviation (SD): Measures how spread out the scores are\n",
        "\n",
        "Minimum and Maximum: To understand range\n",
        "\n",
        "**Visualizations:**\n",
        "\n",
        "Histogram: To visualize how scores are distributed (e.g. bell-shaped, skewed, uniform)\n",
        "\n",
        "Boxplot:  To check for spread and outliers\n",
        "\n",
        "Bar chart (optional): If you want to see frequency of individual scores\n"
      ],
      "metadata": {
        "id": "Eiq7yeMseb12"
      }
    },
    {
      "cell_type": "code",
      "source": [
        "# ● Write Python code to create a histogram using Matplotlib for the survey data:\n",
        "# survey_scores = [7, 8, 5, 9, 6, 7, 8, 9, 10, 4, 7, 6, 9, 8, 7]\n",
        "import seaborn as sns\n",
        "survey_scores = [7, 8, 5, 9, 6, 7, 8, 9, 10, 4, 7, 6, 9, 8, 7]\n",
        "sns.histplot(survey_scores, bins=7)"
      ],
      "metadata": {
        "colab": {
          "base_uri": "https://localhost:8080/",
          "height": 448
        },
        "id": "gvKd5tcxeFgy",
        "outputId": "f86f2358-8cbe-4c0a-a87b-2fb3b3ba28fa"
      },
      "execution_count": 15,
      "outputs": [
        {
          "output_type": "execute_result",
          "data": {
            "text/plain": [
              "<Axes: ylabel='Count'>"
            ]
          },
          "metadata": {},
          "execution_count": 15
        },
        {
          "output_type": "display_data",
          "data": {
            "text/plain": [
              "<Figure size 640x480 with 1 Axes>"
            ],
            "image/png": "[encoded data removed]"
          },
          "metadata": {}
        }
      ]
    },
    {
      "cell_type": "code",
      "source": [],
      "metadata": {
        "id": "qswCMOZAf1TU"
      },
      "execution_count": null,
      "outputs": []
    }
  ]
}